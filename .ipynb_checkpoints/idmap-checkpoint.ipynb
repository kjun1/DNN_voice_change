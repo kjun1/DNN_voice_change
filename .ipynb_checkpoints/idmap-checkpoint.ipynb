{
 "cells": [
  {
   "cell_type": "code",
   "execution_count": 1,
   "metadata": {},
   "outputs": [],
   "source": [
    "import sidekit\n",
    "import os\n",
    "import sys\n",
    "import multiprocessing\n",
    "import matplotlib.pyplot as mpl\n",
    "import logging\n",
    "import numpy as np\n"
   ]
  },
  {
   "cell_type": "code",
   "execution_count": 2,
   "metadata": {},
   "outputs": [
    {
     "data": {
      "text/plain": [
       "True"
      ]
     },
     "execution_count": 2,
     "metadata": {},
     "output_type": "execute_result"
    }
   ],
   "source": [
    "idmap = sidekit.IdMap()\n",
    "idmap.leftids = np.array([\"model_1\", \"model_2\", \"model_2\"])\n",
    "idmap.rightids = np.array([\"1/1\", \"1/2\", \"2/1\"])\n",
    "idmap.start = np.empty((3), dtype=\"|O\")\n",
    "idmap.stop = np.empty((3), dtype=\"|O\")\n",
    "\n",
    "idmap.validate()"
   ]
  },
  {
   "cell_type": "code",
   "execution_count": 3,
   "metadata": {},
   "outputs": [],
   "source": [
    "ndx"
   ]
  }
 ],
 "metadata": {
  "kernelspec": {
   "display_name": "Python 3",
   "language": "python",
   "name": "python3"
  },
  "language_info": {
   "codemirror_mode": {
    "name": "ipython",
    "version": 3
   },
   "file_extension": ".py",
   "mimetype": "text/x-python",
   "name": "python",
   "nbconvert_exporter": "python",
   "pygments_lexer": "ipython3",
   "version": "3.7.4"
  }
 },
 "nbformat": 4,
 "nbformat_minor": 4
}
