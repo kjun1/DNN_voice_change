{
 "cells": [
  {
   "cell_type": "code",
   "execution_count": 2,
   "metadata": {},
   "outputs": [],
   "source": [
    "import sidekit\n",
    "import os\n",
    "import sys\n",
    "import multiprocessing\n",
    "import matplotlib.pyplot as mpl\n",
    "import logging\n",
    "import numpy as np\n",
    "\n",
    "logging.basicConfig(filename='ubm-gmm.log',level=logging.DEBUG)"
   ]
  },
  {
   "cell_type": "code",
   "execution_count": 3,
   "metadata": {},
   "outputs": [],
   "source": [
    "distribNb = 512  # number of Gaussian distributions for each GMM\n",
    "\n",
    "\n",
    "\n",
    "# Automatically set the number of parallel process to run.\n",
    "# The number of threads to run is set equal to the number of cores available\n",
    "# on the machine minus one or to 1 if the machine has a single core.\n",
    "nbThread = max(multiprocessing.cpu_count()-1, 1)"
   ]
  },
  {
   "cell_type": "code",
   "execution_count": 4,
   "metadata": {},
   "outputs": [
    {
     "ename": "NameError",
     "evalue": "name 'enroll_stat' is not defined",
     "output_type": "error",
     "traceback": [
      "\u001b[0;31m---------------------------------------------------------------------------\u001b[0m",
      "\u001b[0;31mNameError\u001b[0m                                 Traceback (most recent call last)",
      "\u001b[0;32m<ipython-input-4-0fa69abdf968>\u001b[0m in \u001b[0;36m<module>\u001b[0;34m\u001b[0m\n\u001b[1;32m      1\u001b[0m \u001b[0mregulation_factor\u001b[0m \u001b[0;34m=\u001b[0m \u001b[0;36m3\u001b[0m\u001b[0;34m\u001b[0m\u001b[0;34m\u001b[0m\u001b[0m\n\u001b[0;32m----> 2\u001b[0;31m \u001b[0menroll_sv\u001b[0m \u001b[0;34m=\u001b[0m \u001b[0menroll_stat\u001b[0m\u001b[0;34m.\u001b[0m\u001b[0madapt_mean_map_multisession\u001b[0m\u001b[0;34m(\u001b[0m\u001b[0mubm\u001b[0m\u001b[0;34m,\u001b[0m \u001b[0mregulation_factor\u001b[0m\u001b[0;34m)\u001b[0m\u001b[0;34m\u001b[0m\u001b[0;34m\u001b[0m\u001b[0m\n\u001b[0m",
      "\u001b[0;31mNameError\u001b[0m: name 'enroll_stat' is not defined"
     ]
    }
   ],
   "source": []
  }
 ],
 "metadata": {
  "kernelspec": {
   "display_name": "Python 3",
   "language": "python",
   "name": "python3"
  },
  "language_info": {
   "codemirror_mode": {
    "name": "ipython",
    "version": 3
   },
   "file_extension": ".py",
   "mimetype": "text/x-python",
   "name": "python",
   "nbconvert_exporter": "python",
   "pygments_lexer": "ipython3",
   "version": "3.7.4"
  }
 },
 "nbformat": 4,
 "nbformat_minor": 4
}
