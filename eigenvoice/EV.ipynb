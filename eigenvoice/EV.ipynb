{
 "cells": [
  {
   "cell_type": "code",
   "execution_count": 1,
   "metadata": {},
   "outputs": [],
   "source": [
    "import sidekit\n",
    "import os\n",
    "import sys\n",
    "import multiprocessing\n",
    "import matplotlib.pyplot as mpl\n",
    "import logging\n",
    "import re\n",
    "import numpy as np\n",
    "import itertools"
   ]
  },
  {
   "cell_type": "code",
   "execution_count": 2,
   "metadata": {},
   "outputs": [],
   "source": [
    "distribNb = 512\n",
    "rsr2015Path = './'\n",
    "\n",
    "# Default for RSR2015\n",
    "audioDir = os.path.join(rsr2015Path , 'data')\n",
    "\n",
    "# Automatically set the number of parallel process to run.\n",
    "# The number of threads to run is set equal to the number of cores available\n",
    "# on the machine minus one or to 1 if the machine has a single core.\n",
    "nbThread = max(multiprocessing.cpu_count()-1, 1)"
   ]
  },
  {
   "cell_type": "code",
   "execution_count": 48,
   "metadata": {},
   "outputs": [],
   "source": [
    "import itertools\n",
    "\"\"\"\n",
    "GMMのファイルパス登録\n",
    "\"\"\"\n",
    "gmm_wav_path = []\n",
    "mic = [\"WAVES_DT\",\"WAVES_HS\"]\n",
    "per = os.listdir(audioDir+\"/WAVES_DT\")\n",
    "for k in [\"/\".join([audioDir,i,j,\"PB\"]) for i,j in itertools.product(mic,per)]:\n",
    "    #print(k[7:])\n",
    "    if os.listdir(k):\n",
    "        for l in os.listdir(k):\n",
    "            gmm_wav_path.append(k[7:]+\"/\"+l[:-4])\n",
    "ubmList = gmm_wav_path"
   ]
  },
  {
   "cell_type": "code",
   "execution_count": 64,
   "metadata": {},
   "outputs": [],
   "source": [
    "\"\"\"\n",
    "ファイルの確認\n",
    "\"\"\"\n",
    "for i in ubmList:\n",
    "    if os.path.exists(audioDir+\"/\"+i+\".wav\"):\n",
    "        a = \"a\"\n",
    "    else:\n",
    "        print(\"ねえ！\")"
   ]
  },
  {
   "cell_type": "code",
   "execution_count": 3,
   "metadata": {},
   "outputs": [
    {
     "name": "stdout",
     "output_type": "stream",
     "text": [
      "Load task definition\n"
     ]
    }
   ],
   "source": [
    "print('Load task definition')\n",
    "enroll_idmap = sidekit.IdMap('task/3sesspwd_eval_m_trn.h5')\n",
    "test_ndx = sidekit.Ndx('task/3sess-pwd_eval_m_ndx.h5')\n",
    "key = sidekit.Key('task/3sess-pwd_eval_m_key.h5')\n",
    "#with open('task/ubm_list.txt') as inputFile:\n",
    "    #ubmList = inputFile.read().split('\\n')"
   ]
  },
  {
   "cell_type": "code",
   "execution_count": 4,
   "metadata": {},
   "outputs": [
    {
     "name": "stdout",
     "output_type": "stream",
     "text": [
      "------------------------------\n",
      "left ids:array(['1', '1', '1', ..., '100', '100', '100'], dtype='<U255')\n",
      "right ids:array(['1/1', '1/2', '1/3', ..., '100/98', '100/99', '100/100'],\n",
      "      dtype='<U255')\n",
      "seg start:array([None, None, None, ..., None, None, None], dtype=object)\n",
      "seg stop:array([None, None, None, ..., None, None, None], dtype=object)\n",
      "------------------------------\n",
      "\n"
     ]
    }
   ],
   "source": [
    "print(enroll_idmap)"
   ]
  },
  {
   "cell_type": "code",
   "execution_count": 4,
   "metadata": {},
   "outputs": [],
   "source": [
    "logging.info(\"Initialize FeaturesExtractor\")\n",
    "extractor = sidekit.FeaturesExtractor(audio_filename_structure=audioDir+\"/{}.wav\",\n",
    "                                      feature_filename_structure=\"./features/{}.h5\",\n",
    "                                      sampling_frequency=16000,\n",
    "                                      lower_frequency=133.3333,\n",
    "                                      higher_frequency=6955.4976,\n",
    "                                      filter_bank=\"log\",\n",
    "                                      filter_bank_size=40,\n",
    "                                      window_size=0.025,\n",
    "                                      shift=0.01,\n",
    "                                      ceps_number=19,\n",
    "                                      vad=\"snr\",\n",
    "                                      snr=40,\n",
    "                                      pre_emphasis=0.97,\n",
    "                                      save_param=[\"vad\", \"energy\", \"cep\"],\n",
    "                                      keep_all_features=False)\n"
   ]
  },
  {
   "cell_type": "code",
   "execution_count": 5,
   "metadata": {},
   "outputs": [],
   "source": [
    "# Create a FeaturesServer to load features and feed the other methods\n",
    "features_server = sidekit.FeaturesServer(features_extractor=None,\n",
    "                                         feature_filename_structure=\"./features/{}.h5\",\n",
    "                                         sources=None,\n",
    "                                         dataset_list=[\"energy\", \"cep\", \"vad\"],\n",
    "                                         mask=None,\n",
    "                                         feat_norm=\"cmvn\",\n",
    "                                         global_cmvn=None,\n",
    "                                         dct_pca=False,\n",
    "                                         dct_pca_config=None,\n",
    "                                         sdc=False,\n",
    "                                         sdc_config=None,\n",
    "                                         delta=True,\n",
    "                                         double_delta=True,\n",
    "                                         delta_filter=None,\n",
    "                                         context=None,\n",
    "                                         traps_dct_nb=None,\n",
    "                                         rasta=True,\n",
    "                                         keep_all_features=False)"
   ]
  },
  {
   "cell_type": "code",
   "execution_count": 6,
   "metadata": {},
   "outputs": [],
   "source": [
    "ubm = sidekit.Mixture(\"./gmm/ubm.h5\")"
   ]
  },
  {
   "cell_type": "code",
   "execution_count": 7,
   "metadata": {},
   "outputs": [],
   "source": [
    "enroll_sv = sidekit.StatServer('data/sv_enroll.h5')"
   ]
  },
  {
   "cell_type": "code",
   "execution_count": 8,
   "metadata": {},
   "outputs": [],
   "source": [
    "scores_gmm_ubm =  sidekit.bosaris.Scores('scores/scores_gmm-ubm.h5')"
   ]
  },
  {
   "cell_type": "code",
   "execution_count": 43,
   "metadata": {},
   "outputs": [
    {
     "data": {
      "text/plain": [
       "(100, 30720)"
      ]
     },
     "execution_count": 43,
     "metadata": {},
     "output_type": "execute_result"
    }
   ],
   "source": [
    "sv = enroll_sv.stat1\n",
    "sv.shape"
   ]
  },
  {
   "cell_type": "code",
   "execution_count": 93,
   "metadata": {},
   "outputs": [
    {
     "data": {
      "text/plain": [
       "(100, 5)"
      ]
     },
     "execution_count": 93,
     "metadata": {},
     "output_type": "execute_result"
    }
   ],
   "source": [
    "from sklearn.decomposition import PCA\n",
    "pca = PCA(n_components=5)\n",
    "pca.fit(sv.T)\n",
    "ev = pca.components_.T #固有声\n",
    "ev.shape"
   ]
  },
  {
   "cell_type": "code",
   "execution_count": 101,
   "metadata": {},
   "outputs": [],
   "source": [
    "import pandas as pd\n",
    "import scipy\n",
    "df = pd.DataFrame(ev)\n",
    "df_zs = df.apply(scipy.stats.zscore, axis=0)\n",
    "#df.to_excel('evc.xlsx')\n",
    "with pd.ExcelWriter('evc.xlsx') as writer:\n",
    "    df.to_excel(writer, sheet_name='sheet1')\n",
    "    df_zs.to_excel(writer, sheet_name='sheet2')"
   ]
  },
  {
   "cell_type": "code",
   "execution_count": 86,
   "metadata": {},
   "outputs": [
    {
     "data": {
      "text/plain": [
       "array([0.89168442, 0.01120106, 0.0068345 , 0.00559644, 0.00441676])"
      ]
     },
     "execution_count": 86,
     "metadata": {},
     "output_type": "execute_result"
    }
   ],
   "source": [
    "pca.explained_variance_ratio_"
   ]
  },
  {
   "cell_type": "code",
   "execution_count": 95,
   "metadata": {},
   "outputs": [],
   "source": [
    "ev_zs = scipy.stats.zscore(ev)"
   ]
  },
  {
   "cell_type": "code",
   "execution_count": 97,
   "metadata": {},
   "outputs": [
    {
     "name": "stdout",
     "output_type": "stream",
     "text": [
      "[46, 0]\n",
      "[87, 0]\n",
      "[100, 0]\n",
      "[5, 1]\n",
      "[17, 1]\n",
      "[22, 1]\n",
      "[42, 1]\n",
      "[98, 1]\n",
      "[4, 2]\n",
      "[51, 2]\n",
      "[49, 3]\n",
      "[15, 4]\n",
      "[38, 4]\n",
      "[90, 4]\n",
      "[14, 5]\n",
      "[69, 5]\n",
      "[72, 5]\n",
      "[6, 6]\n",
      "[40, 6]\n",
      "[45, 6]\n",
      "[57, 6]\n",
      "[86, 6]\n",
      "[88, 6]\n",
      "[99, 6]\n",
      "[1, 7]\n",
      "[44, 7]\n",
      "[89, 8]\n",
      "[53, 10]\n",
      "[97, 10]\n",
      "[18, 11]\n",
      "[35, 12]\n",
      "[55, 12]\n",
      "[84, 12]\n",
      "[68, 14]\n",
      "[71, 14]\n",
      "[93, 14]\n",
      "[2, 15]\n",
      "[7, 15]\n",
      "[10, 15]\n",
      "[11, 15]\n",
      "[52, 15]\n",
      "[65, 15]\n",
      "[3, 17]\n",
      "[16, 17]\n",
      "[73, 18]\n",
      "[26, 21]\n",
      "[27, 21]\n",
      "[28, 21]\n",
      "[29, 21]\n",
      "[30, 21]\n",
      "[31, 21]\n",
      "[43, 21]\n",
      "[47, 21]\n",
      "[70, 21]\n",
      "[74, 21]\n",
      "[75, 21]\n",
      "[76, 21]\n",
      "[77, 21]\n",
      "[78, 21]\n",
      "[80, 21]\n",
      "[81, 21]\n",
      "[91, 21]\n",
      "[41, 22]\n",
      "[66, 22]\n",
      "[24, 23]\n",
      "[32, 23]\n",
      "[9, 24]\n",
      "[21, 24]\n",
      "[23, 24]\n",
      "[37, 24]\n",
      "[39, 24]\n",
      "[62, 24]\n",
      "[63, 25]\n",
      "[83, 25]\n",
      "[56, 26]\n",
      "[92, 26]\n",
      "[12, 27]\n",
      "[13, 27]\n",
      "[19, 27]\n",
      "[34, 27]\n",
      "[36, 27]\n",
      "[50, 27]\n",
      "[54, 27]\n",
      "[59, 27]\n",
      "[67, 27]\n",
      "[79, 27]\n",
      "[33, 28]\n",
      "[60, 28]\n",
      "[61, 28]\n",
      "[82, 28]\n",
      "[85, 28]\n",
      "[94, 28]\n",
      "[96, 28]\n",
      "[8, 29]\n",
      "[20, 29]\n",
      "[25, 29]\n",
      "[64, 29]\n",
      "[95, 29]\n",
      "[58, 30]\n",
      "[48, 31]\n"
     ]
    }
   ],
   "source": [
    "data = []\n",
    "for x,j in enumerate(ev_zs):\n",
    "    c = 0\n",
    "    for i in range(5):\n",
    "        if j[i] > 0:\n",
    "            c += 2**(4-i)\n",
    "    data.append([x+1,c])\n",
    "list = sorted(data, key=lambda x: x[1])\n",
    "for i in list:\n",
    "    print(i)"
   ]
  },
  {
   "cell_type": "code",
   "execution_count": 100,
   "metadata": {},
   "outputs": [],
   "source": [
    "import shutil\n",
    "for i in range(32):\n",
    "    if not os.path.exists(\"./result/{}\".format(i)):\n",
    "        os.mkdir(\"./result/{}\".format(i))\n",
    "for i in list:\n",
    "    x = \"./data/{}/1.wav\".format(i[0])\n",
    "    y = \"./result/{}/{}.wav\".format(i[1],i[0])\n",
    "    shutil.copyfile(x,y)"
   ]
  },
  {
   "cell_type": "code",
   "execution_count": 102,
   "metadata": {},
   "outputs": [
    {
     "name": "stdout",
     "output_type": "stream",
     "text": [
      "UBM-GMM , minDCF = 0.17775332599779933, eer = 0.10944900945673351\n"
     ]
    }
   ],
   "source": [
    "prior = sidekit.logit_effective_prior(0.01, 1, 1)\n",
    "dp = sidekit.DetPlot(window_style='sre10',\n",
    "                    plot_title=\"GMM-UBM\")\n",
    "dp.set_system_from_scores(scores_gmm_ubm,\n",
    "                         key, sys_name=\"GMM-UBM\")\n",
    "minDCF, Pmiss, Pfa, prebep, EER = sidekit.bosaris.detplot.fast_minDCF(\n",
    "dp.__tar__[0], dp.__non__[0], prior, normalize=True)\n",
    "print(\"UBM-GMM , minDCF = {}, eer = {}\".format(minDCF,EER))"
   ]
  }
 ],
 "metadata": {
  "kernelspec": {
   "display_name": "Python 3",
   "language": "python",
   "name": "python3"
  },
  "language_info": {
   "codemirror_mode": {
    "name": "ipython",
    "version": 3
   },
   "file_extension": ".py",
   "mimetype": "text/x-python",
   "name": "python",
   "nbconvert_exporter": "python",
   "pygments_lexer": "ipython3",
   "version": "3.7.4"
  }
 },
 "nbformat": 4,
 "nbformat_minor": 4
}
