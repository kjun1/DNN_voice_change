{
 "cells": [
  {
   "cell_type": "code",
   "execution_count": 1,
   "metadata": {},
   "outputs": [],
   "source": [
    "import sidekit\n",
    "import os\n",
    "import sys\n",
    "import multiprocessing\n",
    "import matplotlib.pyplot as mpl\n",
    "import logging\n",
    "import re\n",
    "import numpy as np\n",
    "import itertools"
   ]
  },
  {
   "cell_type": "code",
   "execution_count": 2,
   "metadata": {},
   "outputs": [],
   "source": [
    "distribNb = 512\n",
    "rsr2015Path = './'\n",
    "\n",
    "# Default for RSR2015\n",
    "audioDir = os.path.join(rsr2015Path , 'data')\n",
    "\n",
    "# Automatically set the number of parallel process to run.\n",
    "# The number of threads to run is set equal to the number of cores available\n",
    "# on the machine minus one or to 1 if the machine has a single core.\n",
    "nbThread = max(multiprocessing.cpu_count()-1, 1)"
   ]
  },
  {
   "cell_type": "code",
   "execution_count": 3,
   "metadata": {},
   "outputs": [],
   "source": [
    "import itertools\n",
    "\"\"\"\n",
    "GMMのファイルパス登録\n",
    "\"\"\"\n",
    "gmm_wav_path = []\n",
    "mic = [\"WAVES_DT\",\"WAVES_HS\"]\n",
    "per = os.listdir(audioDir+\"/WAVES_DT\")\n",
    "for k in [\"/\".join([audioDir,i,j,\"PB\"]) for i,j in itertools.product(mic,per)]:\n",
    "    #print(k[7:])\n",
    "    if os.listdir(k):\n",
    "        for l in os.listdir(k):\n",
    "            gmm_wav_path.append(k[7:]+\"/\"+l[:-4])\n",
    "ubmList = gmm_wav_path"
   ]
  },
  {
   "cell_type": "code",
   "execution_count": 4,
   "metadata": {},
   "outputs": [
    {
     "ename": "KeyboardInterrupt",
     "evalue": "",
     "output_type": "error",
     "traceback": [
      "\u001b[0;31m---------------------------------------------------------------------------\u001b[0m",
      "\u001b[0;31mKeyboardInterrupt\u001b[0m                         Traceback (most recent call last)",
      "\u001b[0;32m<ipython-input-4-a645bcf6b7fa>\u001b[0m in \u001b[0;36m<module>\u001b[0;34m\u001b[0m\n\u001b[1;32m      3\u001b[0m \"\"\"\n\u001b[1;32m      4\u001b[0m \u001b[0;32mfor\u001b[0m \u001b[0mi\u001b[0m \u001b[0;32min\u001b[0m \u001b[0mubmList\u001b[0m\u001b[0;34m:\u001b[0m\u001b[0;34m\u001b[0m\u001b[0;34m\u001b[0m\u001b[0m\n\u001b[0;32m----> 5\u001b[0;31m     \u001b[0;32mif\u001b[0m \u001b[0mos\u001b[0m\u001b[0;34m.\u001b[0m\u001b[0mpath\u001b[0m\u001b[0;34m.\u001b[0m\u001b[0mexists\u001b[0m\u001b[0;34m(\u001b[0m\u001b[0maudioDir\u001b[0m\u001b[0;34m+\u001b[0m\u001b[0;34m\"/\"\u001b[0m\u001b[0;34m+\u001b[0m\u001b[0mi\u001b[0m\u001b[0;34m+\u001b[0m\u001b[0;34m\".wav\"\u001b[0m\u001b[0;34m)\u001b[0m\u001b[0;34m:\u001b[0m\u001b[0;34m\u001b[0m\u001b[0;34m\u001b[0m\u001b[0m\n\u001b[0m\u001b[1;32m      6\u001b[0m         \u001b[0ma\u001b[0m \u001b[0;34m=\u001b[0m \u001b[0;34m\"a\"\u001b[0m\u001b[0;34m\u001b[0m\u001b[0;34m\u001b[0m\u001b[0m\n\u001b[1;32m      7\u001b[0m     \u001b[0;32melse\u001b[0m\u001b[0;34m:\u001b[0m\u001b[0;34m\u001b[0m\u001b[0;34m\u001b[0m\u001b[0m\n",
      "\u001b[0;32m~/.pyenv/versions/3.7.4/lib/python3.7/genericpath.py\u001b[0m in \u001b[0;36mexists\u001b[0;34m(path)\u001b[0m\n\u001b[1;32m     17\u001b[0m     \u001b[0;34m\"\"\"Test whether a path exists.  Returns False for broken symbolic links\"\"\"\u001b[0m\u001b[0;34m\u001b[0m\u001b[0;34m\u001b[0m\u001b[0m\n\u001b[1;32m     18\u001b[0m     \u001b[0;32mtry\u001b[0m\u001b[0;34m:\u001b[0m\u001b[0;34m\u001b[0m\u001b[0;34m\u001b[0m\u001b[0m\n\u001b[0;32m---> 19\u001b[0;31m         \u001b[0mos\u001b[0m\u001b[0;34m.\u001b[0m\u001b[0mstat\u001b[0m\u001b[0;34m(\u001b[0m\u001b[0mpath\u001b[0m\u001b[0;34m)\u001b[0m\u001b[0;34m\u001b[0m\u001b[0;34m\u001b[0m\u001b[0m\n\u001b[0m\u001b[1;32m     20\u001b[0m     \u001b[0;32mexcept\u001b[0m \u001b[0mOSError\u001b[0m\u001b[0;34m:\u001b[0m\u001b[0;34m\u001b[0m\u001b[0;34m\u001b[0m\u001b[0m\n\u001b[1;32m     21\u001b[0m         \u001b[0;32mreturn\u001b[0m \u001b[0;32mFalse\u001b[0m\u001b[0;34m\u001b[0m\u001b[0;34m\u001b[0m\u001b[0m\n",
      "\u001b[0;31mKeyboardInterrupt\u001b[0m: "
     ]
    }
   ],
   "source": [
    "\"\"\"\n",
    "ファイルの確認\n",
    "\"\"\"\n",
    "for i in ubmList:\n",
    "    if os.path.exists(audioDir+\"/\"+i+\".wav\"):\n",
    "        a = \"a\"\n",
    "    else:\n",
    "        print(\"ねえ！\")"
   ]
  },
  {
   "cell_type": "code",
   "execution_count": 11,
   "metadata": {},
   "outputs": [
    {
     "data": {
      "text/plain": [
       "'WAVES_DT/F001/PB/BF001I01_DT'"
      ]
     },
     "execution_count": 11,
     "metadata": {},
     "output_type": "execute_result"
    }
   ],
   "source": [
    "ubmList[0]"
   ]
  },
  {
   "cell_type": "code",
   "execution_count": 4,
   "metadata": {},
   "outputs": [
    {
     "name": "stdout",
     "output_type": "stream",
     "text": [
      "Load task definition\n"
     ]
    }
   ],
   "source": [
    "print('Load task definition')\n",
    "enroll_idmap = sidekit.IdMap('task/3sesspwd_eval_m_trn.h5')\n",
    "test_ndx = sidekit.Ndx('task/3sess-pwd_eval_m_ndx.h5')\n",
    "key = sidekit.Key('task/3sess-pwd_eval_m_key.h5')\n",
    "#with open('task/ubm_list.txt') as inputFile:\n",
    "    #ubmList = inputFile.read().split('\\n')"
   ]
  },
  {
   "cell_type": "code",
   "execution_count": 7,
   "metadata": {},
   "outputs": [
    {
     "name": "stdout",
     "output_type": "stream",
     "text": [
      "------------------------------\n",
      "left ids:array(['1', '1', '1', ..., '100', '100', '100'], dtype='<U255')\n",
      "right ids:array(['1/1', '1/2', '1/3', ..., '100/98', '100/99', '100/100'],\n",
      "      dtype='<U255')\n",
      "seg start:array([None, None, None, ..., None, None, None], dtype=object)\n",
      "seg stop:array([None, None, None, ..., None, None, None], dtype=object)\n",
      "------------------------------\n",
      "\n"
     ]
    }
   ],
   "source": [
    "print(enroll_idmap)"
   ]
  },
  {
   "cell_type": "code",
   "execution_count": 5,
   "metadata": {},
   "outputs": [],
   "source": [
    "logging.info(\"Initialize FeaturesExtractor\")\n",
    "extractor = sidekit.FeaturesExtractor(audio_filename_structure=audioDir+\"/{}.wav\",\n",
    "                                      feature_filename_structure=\"./features/{}.h5\",\n",
    "                                      sampling_frequency=16000,\n",
    "                                      lower_frequency=133.3333,\n",
    "                                      higher_frequency=6955.4976,\n",
    "                                      filter_bank=\"log\",\n",
    "                                      filter_bank_size=40,\n",
    "                                      window_size=0.025,\n",
    "                                      shift=0.01,\n",
    "                                      ceps_number=19,\n",
    "                                      vad=\"snr\",\n",
    "                                      snr=40,\n",
    "                                      pre_emphasis=0.97,\n",
    "                                      save_param=[\"vad\", \"energy\", \"cep\"],\n",
    "                                      keep_all_features=False)\n"
   ]
  },
  {
   "cell_type": "code",
   "execution_count": 12,
   "metadata": {},
   "outputs": [
    {
     "name": "stderr",
     "output_type": "stream",
     "text": [
      "Process Process-16:\n",
      "Traceback (most recent call last):\n",
      "  File \"/home/jun/.pyenv/versions/3.7.4/lib/python3.7/multiprocessing/process.py\", line 297, in _bootstrap\n",
      "    self.run()\n",
      "  File \"/home/jun/.pyenv/versions/3.7.4/lib/python3.7/multiprocessing/process.py\", line 99, in run\n",
      "    self._target(*self._args, **self._kwargs)\n",
      "  File \"/home/jun/.local/share/virtualenvs/dnn_voice_change-vie6OHFl/lib/python3.7/site-packages/sidekit/features_extractor.py\", line 750, in save_list\n",
      "    self.save(show, channel, audio_file, feature_file, noise_file, snr, reverb_file, reverb_level)\n",
      "  File \"/home/jun/.local/share/virtualenvs/dnn_voice_change-vie6OHFl/lib/python3.7/site-packages/sidekit/features_extractor.py\", line 468, in save\n",
      "    reverb_level=reverb_level)\n",
      "  File \"/home/jun/.local/share/virtualenvs/dnn_voice_change-vie6OHFl/lib/python3.7/site-packages/sidekit/features_extractor.py\", line 340, in extract\n",
      "    self.compressed)\n",
      "  File \"/home/jun/.local/share/virtualenvs/dnn_voice_change-vie6OHFl/lib/python3.7/site-packages/sidekit/frontend/io.py\", line 1355, in write_hdf5\n",
      "    label)\n",
      "  File \"/home/jun/.local/share/virtualenvs/dnn_voice_change-vie6OHFl/lib/python3.7/site-packages/sidekit/frontend/io.py\", line 1236, in _write_show_percentile\n",
      "    _add_percentile_dataset(fh, show + '/cep', cep)\n",
      "  File \"/home/jun/.local/share/virtualenvs/dnn_voice_change-vie6OHFl/lib/python3.7/site-packages/sidekit/frontend/io.py\", line 998, in _add_percentile_dataset\n",
      "    _add_dataset_header(fh, dataset_id, _min_val, _range, _header)\n",
      "  File \"/home/jun/.local/share/virtualenvs/dnn_voice_change-vie6OHFl/lib/python3.7/site-packages/sidekit/frontend/io.py\", line 972, in _add_dataset_header\n",
      "    fletcher32=True)\n",
      "  File \"/home/jun/.local/share/virtualenvs/dnn_voice_change-vie6OHFl/lib/python3.7/site-packages/h5py/_hl/group.py\", line 153, in create_dataset\n",
      "    dsid = dataset.make_new_dset(group, shape, dtype, data, name, **kwds)\n",
      "  File \"/home/jun/.local/share/virtualenvs/dnn_voice_change-vie6OHFl/lib/python3.7/site-packages/h5py/_hl/dataset.py\", line 134, in make_new_dset\n",
      "    dset_id = h5d.create(parent.id, name, tid, sid, dcpl=dcpl)\n",
      "  File \"h5py/_objects.pyx\", line 54, in h5py._objects.with_phil.wrapper\n",
      "  File \"h5py/_objects.pyx\", line 55, in h5py._objects.with_phil.wrapper\n",
      "  File \"h5py/h5d.pyx\", line 87, in h5py.h5d.create\n",
      "ValueError: Unable to create dataset (name already exists)\n",
      "Process Process-13:\n",
      "Traceback (most recent call last):\n",
      "  File \"/home/jun/.pyenv/versions/3.7.4/lib/python3.7/multiprocessing/process.py\", line 297, in _bootstrap\n",
      "    self.run()\n",
      "  File \"/home/jun/.pyenv/versions/3.7.4/lib/python3.7/multiprocessing/process.py\", line 99, in run\n",
      "    self._target(*self._args, **self._kwargs)\n",
      "  File \"/home/jun/.local/share/virtualenvs/dnn_voice_change-vie6OHFl/lib/python3.7/site-packages/sidekit/features_extractor.py\", line 750, in save_list\n",
      "    self.save(show, channel, audio_file, feature_file, noise_file, snr, reverb_file, reverb_level)\n",
      "  File \"/home/jun/.local/share/virtualenvs/dnn_voice_change-vie6OHFl/lib/python3.7/site-packages/sidekit/features_extractor.py\", line 468, in save\n",
      "    reverb_level=reverb_level)\n",
      "  File \"/home/jun/.local/share/virtualenvs/dnn_voice_change-vie6OHFl/lib/python3.7/site-packages/sidekit/features_extractor.py\", line 340, in extract\n",
      "    self.compressed)\n",
      "  File \"/home/jun/.local/share/virtualenvs/dnn_voice_change-vie6OHFl/lib/python3.7/site-packages/sidekit/frontend/io.py\", line 1355, in write_hdf5\n",
      "    label)\n",
      "  File \"/home/jun/.local/share/virtualenvs/dnn_voice_change-vie6OHFl/lib/python3.7/site-packages/sidekit/frontend/io.py\", line 1236, in _write_show_percentile\n",
      "    _add_percentile_dataset(fh, show + '/cep', cep)\n",
      "  File \"/home/jun/.local/share/virtualenvs/dnn_voice_change-vie6OHFl/lib/python3.7/site-packages/sidekit/frontend/io.py\", line 998, in _add_percentile_dataset\n",
      "    _add_dataset_header(fh, dataset_id, _min_val, _range, _header)\n",
      "  File \"/home/jun/.local/share/virtualenvs/dnn_voice_change-vie6OHFl/lib/python3.7/site-packages/sidekit/frontend/io.py\", line 972, in _add_dataset_header\n",
      "    fletcher32=True)\n",
      "  File \"/home/jun/.local/share/virtualenvs/dnn_voice_change-vie6OHFl/lib/python3.7/site-packages/h5py/_hl/group.py\", line 153, in create_dataset\n",
      "    dsid = dataset.make_new_dset(group, shape, dtype, data, name, **kwds)\n",
      "  File \"/home/jun/.local/share/virtualenvs/dnn_voice_change-vie6OHFl/lib/python3.7/site-packages/h5py/_hl/dataset.py\", line 134, in make_new_dset\n",
      "    dset_id = h5d.create(parent.id, name, tid, sid, dcpl=dcpl)\n",
      "  File \"h5py/_objects.pyx\", line 54, in h5py._objects.with_phil.wrapper\n",
      "  File \"h5py/_objects.pyx\", line 55, in h5py._objects.with_phil.wrapper\n",
      "  File \"h5py/h5d.pyx\", line 87, in h5py.h5d.create\n",
      "ValueError: Unable to create dataset (name already exists)\n",
      "Process Process-17:\n",
      "Process Process-15:\n",
      "Traceback (most recent call last):\n",
      "Traceback (most recent call last):\n",
      "  File \"/home/jun/.pyenv/versions/3.7.4/lib/python3.7/multiprocessing/process.py\", line 99, in run\n",
      "    self._target(*self._args, **self._kwargs)\n",
      "  File \"/home/jun/.pyenv/versions/3.7.4/lib/python3.7/multiprocessing/process.py\", line 297, in _bootstrap\n",
      "    self.run()\n",
      "  File \"/home/jun/.pyenv/versions/3.7.4/lib/python3.7/multiprocessing/process.py\", line 297, in _bootstrap\n",
      "    self.run()\n",
      "  File \"/home/jun/.pyenv/versions/3.7.4/lib/python3.7/multiprocessing/process.py\", line 99, in run\n",
      "    self._target(*self._args, **self._kwargs)\n",
      "  File \"/home/jun/.local/share/virtualenvs/dnn_voice_change-vie6OHFl/lib/python3.7/site-packages/sidekit/features_extractor.py\", line 750, in save_list\n",
      "    self.save(show, channel, audio_file, feature_file, noise_file, snr, reverb_file, reverb_level)\n",
      "  File \"/home/jun/.local/share/virtualenvs/dnn_voice_change-vie6OHFl/lib/python3.7/site-packages/sidekit/features_extractor.py\", line 750, in save_list\n",
      "    self.save(show, channel, audio_file, feature_file, noise_file, snr, reverb_file, reverb_level)\n",
      "Process Process-14:\n",
      "  File \"/home/jun/.local/share/virtualenvs/dnn_voice_change-vie6OHFl/lib/python3.7/site-packages/sidekit/features_extractor.py\", line 468, in save\n",
      "    reverb_level=reverb_level)\n",
      "  File \"/home/jun/.local/share/virtualenvs/dnn_voice_change-vie6OHFl/lib/python3.7/site-packages/sidekit/features_extractor.py\", line 468, in save\n",
      "    reverb_level=reverb_level)\n",
      "Traceback (most recent call last):\n",
      "  File \"/home/jun/.local/share/virtualenvs/dnn_voice_change-vie6OHFl/lib/python3.7/site-packages/sidekit/features_extractor.py\", line 340, in extract\n",
      "    self.compressed)\n",
      "  File \"/home/jun/.local/share/virtualenvs/dnn_voice_change-vie6OHFl/lib/python3.7/site-packages/sidekit/frontend/io.py\", line 1355, in write_hdf5\n",
      "    label)\n",
      "  File \"/home/jun/.local/share/virtualenvs/dnn_voice_change-vie6OHFl/lib/python3.7/site-packages/sidekit/features_extractor.py\", line 340, in extract\n",
      "    self.compressed)\n",
      "  File \"/home/jun/.pyenv/versions/3.7.4/lib/python3.7/multiprocessing/process.py\", line 297, in _bootstrap\n",
      "    self.run()\n",
      "  File \"/home/jun/.local/share/virtualenvs/dnn_voice_change-vie6OHFl/lib/python3.7/site-packages/sidekit/frontend/io.py\", line 1355, in write_hdf5\n",
      "    label)\n",
      "  File \"/home/jun/.local/share/virtualenvs/dnn_voice_change-vie6OHFl/lib/python3.7/site-packages/sidekit/frontend/io.py\", line 1236, in _write_show_percentile\n",
      "    _add_percentile_dataset(fh, show + '/cep', cep)\n",
      "  File \"/home/jun/.local/share/virtualenvs/dnn_voice_change-vie6OHFl/lib/python3.7/site-packages/sidekit/frontend/io.py\", line 1236, in _write_show_percentile\n",
      "    _add_percentile_dataset(fh, show + '/cep', cep)\n",
      "  File \"/home/jun/.pyenv/versions/3.7.4/lib/python3.7/multiprocessing/process.py\", line 99, in run\n",
      "    self._target(*self._args, **self._kwargs)\n",
      "  File \"/home/jun/.local/share/virtualenvs/dnn_voice_change-vie6OHFl/lib/python3.7/site-packages/sidekit/frontend/io.py\", line 998, in _add_percentile_dataset\n",
      "    _add_dataset_header(fh, dataset_id, _min_val, _range, _header)\n",
      "  File \"/home/jun/.local/share/virtualenvs/dnn_voice_change-vie6OHFl/lib/python3.7/site-packages/sidekit/features_extractor.py\", line 750, in save_list\n",
      "    self.save(show, channel, audio_file, feature_file, noise_file, snr, reverb_file, reverb_level)\n",
      "  File \"/home/jun/.local/share/virtualenvs/dnn_voice_change-vie6OHFl/lib/python3.7/site-packages/sidekit/frontend/io.py\", line 972, in _add_dataset_header\n",
      "    fletcher32=True)\n"
     ]
    },
    {
     "name": "stderr",
     "output_type": "stream",
     "text": [
      "  File \"/home/jun/.local/share/virtualenvs/dnn_voice_change-vie6OHFl/lib/python3.7/site-packages/sidekit/frontend/io.py\", line 998, in _add_percentile_dataset\n",
      "    _add_dataset_header(fh, dataset_id, _min_val, _range, _header)\n",
      "  File \"/home/jun/.local/share/virtualenvs/dnn_voice_change-vie6OHFl/lib/python3.7/site-packages/sidekit/features_extractor.py\", line 468, in save\n",
      "    reverb_level=reverb_level)\n",
      "  File \"/home/jun/.local/share/virtualenvs/dnn_voice_change-vie6OHFl/lib/python3.7/site-packages/sidekit/frontend/io.py\", line 972, in _add_dataset_header\n",
      "    fletcher32=True)\n",
      "  File \"/home/jun/.local/share/virtualenvs/dnn_voice_change-vie6OHFl/lib/python3.7/site-packages/h5py/_hl/group.py\", line 153, in create_dataset\n",
      "    dsid = dataset.make_new_dset(group, shape, dtype, data, name, **kwds)\n",
      "  File \"/home/jun/.local/share/virtualenvs/dnn_voice_change-vie6OHFl/lib/python3.7/site-packages/h5py/_hl/group.py\", line 153, in create_dataset\n",
      "    dsid = dataset.make_new_dset(group, shape, dtype, data, name, **kwds)\n",
      "  File \"/home/jun/.local/share/virtualenvs/dnn_voice_change-vie6OHFl/lib/python3.7/site-packages/sidekit/features_extractor.py\", line 340, in extract\n",
      "    self.compressed)\n",
      "  File \"/home/jun/.local/share/virtualenvs/dnn_voice_change-vie6OHFl/lib/python3.7/site-packages/h5py/_hl/dataset.py\", line 134, in make_new_dset\n",
      "    dset_id = h5d.create(parent.id, name, tid, sid, dcpl=dcpl)\n",
      "  File \"/home/jun/.local/share/virtualenvs/dnn_voice_change-vie6OHFl/lib/python3.7/site-packages/h5py/_hl/dataset.py\", line 134, in make_new_dset\n",
      "    dset_id = h5d.create(parent.id, name, tid, sid, dcpl=dcpl)\n",
      "  File \"/home/jun/.local/share/virtualenvs/dnn_voice_change-vie6OHFl/lib/python3.7/site-packages/sidekit/frontend/io.py\", line 1355, in write_hdf5\n",
      "    label)\n",
      "  File \"h5py/_objects.pyx\", line 54, in h5py._objects.with_phil.wrapper\n",
      "  File \"h5py/_objects.pyx\", line 54, in h5py._objects.with_phil.wrapper\n",
      "  File \"/home/jun/.local/share/virtualenvs/dnn_voice_change-vie6OHFl/lib/python3.7/site-packages/sidekit/frontend/io.py\", line 1236, in _write_show_percentile\n",
      "    _add_percentile_dataset(fh, show + '/cep', cep)\n",
      "  File \"h5py/_objects.pyx\", line 55, in h5py._objects.with_phil.wrapper\n",
      "  File \"h5py/_objects.pyx\", line 55, in h5py._objects.with_phil.wrapper\n",
      "  File \"h5py/h5d.pyx\", line 87, in h5py.h5d.create\n",
      "ValueError: Unable to create dataset (name already exists)\n",
      "  File \"h5py/h5d.pyx\", line 87, in h5py.h5d.create\n",
      "ValueError: Unable to create dataset (name already exists)\n",
      "  File \"/home/jun/.local/share/virtualenvs/dnn_voice_change-vie6OHFl/lib/python3.7/site-packages/sidekit/frontend/io.py\", line 998, in _add_percentile_dataset\n",
      "    _add_dataset_header(fh, dataset_id, _min_val, _range, _header)\n",
      "  File \"/home/jun/.local/share/virtualenvs/dnn_voice_change-vie6OHFl/lib/python3.7/site-packages/sidekit/frontend/io.py\", line 972, in _add_dataset_header\n",
      "    fletcher32=True)\n",
      "  File \"/home/jun/.local/share/virtualenvs/dnn_voice_change-vie6OHFl/lib/python3.7/site-packages/h5py/_hl/group.py\", line 153, in create_dataset\n",
      "    dsid = dataset.make_new_dset(group, shape, dtype, data, name, **kwds)\n",
      "  File \"/home/jun/.local/share/virtualenvs/dnn_voice_change-vie6OHFl/lib/python3.7/site-packages/h5py/_hl/dataset.py\", line 134, in make_new_dset\n",
      "    dset_id = h5d.create(parent.id, name, tid, sid, dcpl=dcpl)\n",
      "  File \"h5py/_objects.pyx\", line 54, in h5py._objects.with_phil.wrapper\n",
      "  File \"h5py/_objects.pyx\", line 55, in h5py._objects.with_phil.wrapper\n",
      "  File \"h5py/h5d.pyx\", line 87, in h5py.h5d.create\n",
      "ValueError: Unable to create dataset (name already exists)\n",
      "Process Process-21:\n",
      "Process Process-22:\n",
      "Traceback (most recent call last):\n",
      "Traceback (most recent call last):\n",
      "  File \"/home/jun/.pyenv/versions/3.7.4/lib/python3.7/multiprocessing/process.py\", line 297, in _bootstrap\n",
      "    self.run()\n",
      "  File \"/home/jun/.pyenv/versions/3.7.4/lib/python3.7/multiprocessing/process.py\", line 297, in _bootstrap\n",
      "    self.run()\n",
      "  File \"/home/jun/.pyenv/versions/3.7.4/lib/python3.7/multiprocessing/process.py\", line 99, in run\n",
      "    self._target(*self._args, **self._kwargs)\n",
      "  File \"/home/jun/.pyenv/versions/3.7.4/lib/python3.7/multiprocessing/process.py\", line 99, in run\n",
      "    self._target(*self._args, **self._kwargs)\n",
      "  File \"/home/jun/.local/share/virtualenvs/dnn_voice_change-vie6OHFl/lib/python3.7/site-packages/sidekit/features_extractor.py\", line 750, in save_list\n",
      "    self.save(show, channel, audio_file, feature_file, noise_file, snr, reverb_file, reverb_level)\n",
      "  File \"/home/jun/.local/share/virtualenvs/dnn_voice_change-vie6OHFl/lib/python3.7/site-packages/sidekit/features_extractor.py\", line 750, in save_list\n",
      "    self.save(show, channel, audio_file, feature_file, noise_file, snr, reverb_file, reverb_level)\n",
      "  File \"/home/jun/.local/share/virtualenvs/dnn_voice_change-vie6OHFl/lib/python3.7/site-packages/sidekit/features_extractor.py\", line 468, in save\n",
      "    reverb_level=reverb_level)\n",
      "  File \"/home/jun/.local/share/virtualenvs/dnn_voice_change-vie6OHFl/lib/python3.7/site-packages/sidekit/features_extractor.py\", line 468, in save\n",
      "    reverb_level=reverb_level)\n",
      "  File \"/home/jun/.local/share/virtualenvs/dnn_voice_change-vie6OHFl/lib/python3.7/site-packages/sidekit/features_extractor.py\", line 340, in extract\n",
      "    self.compressed)\n",
      "  File \"/home/jun/.local/share/virtualenvs/dnn_voice_change-vie6OHFl/lib/python3.7/site-packages/sidekit/features_extractor.py\", line 340, in extract\n",
      "    self.compressed)\n",
      "  File \"/home/jun/.local/share/virtualenvs/dnn_voice_change-vie6OHFl/lib/python3.7/site-packages/sidekit/frontend/io.py\", line 1355, in write_hdf5\n",
      "    label)\n",
      "  File \"/home/jun/.local/share/virtualenvs/dnn_voice_change-vie6OHFl/lib/python3.7/site-packages/sidekit/frontend/io.py\", line 1355, in write_hdf5\n",
      "    label)\n",
      "  File \"/home/jun/.local/share/virtualenvs/dnn_voice_change-vie6OHFl/lib/python3.7/site-packages/sidekit/frontend/io.py\", line 1236, in _write_show_percentile\n",
      "    _add_percentile_dataset(fh, show + '/cep', cep)\n",
      "  File \"/home/jun/.local/share/virtualenvs/dnn_voice_change-vie6OHFl/lib/python3.7/site-packages/sidekit/frontend/io.py\", line 1236, in _write_show_percentile\n",
      "    _add_percentile_dataset(fh, show + '/cep', cep)\n",
      "  File \"/home/jun/.local/share/virtualenvs/dnn_voice_change-vie6OHFl/lib/python3.7/site-packages/sidekit/frontend/io.py\", line 998, in _add_percentile_dataset\n",
      "    _add_dataset_header(fh, dataset_id, _min_val, _range, _header)\n",
      "  File \"/home/jun/.local/share/virtualenvs/dnn_voice_change-vie6OHFl/lib/python3.7/site-packages/sidekit/frontend/io.py\", line 998, in _add_percentile_dataset\n",
      "    _add_dataset_header(fh, dataset_id, _min_val, _range, _header)\n",
      "  File \"/home/jun/.local/share/virtualenvs/dnn_voice_change-vie6OHFl/lib/python3.7/site-packages/sidekit/frontend/io.py\", line 972, in _add_dataset_header\n",
      "    fletcher32=True)\n",
      "  File \"/home/jun/.local/share/virtualenvs/dnn_voice_change-vie6OHFl/lib/python3.7/site-packages/sidekit/frontend/io.py\", line 972, in _add_dataset_header\n",
      "    fletcher32=True)\n",
      "  File \"/home/jun/.local/share/virtualenvs/dnn_voice_change-vie6OHFl/lib/python3.7/site-packages/h5py/_hl/group.py\", line 153, in create_dataset\n",
      "    dsid = dataset.make_new_dset(group, shape, dtype, data, name, **kwds)\n",
      "  File \"/home/jun/.local/share/virtualenvs/dnn_voice_change-vie6OHFl/lib/python3.7/site-packages/h5py/_hl/group.py\", line 153, in create_dataset\n",
      "    dsid = dataset.make_new_dset(group, shape, dtype, data, name, **kwds)\n",
      "  File \"/home/jun/.local/share/virtualenvs/dnn_voice_change-vie6OHFl/lib/python3.7/site-packages/h5py/_hl/dataset.py\", line 134, in make_new_dset\n",
      "    dset_id = h5d.create(parent.id, name, tid, sid, dcpl=dcpl)\n",
      "  File \"/home/jun/.local/share/virtualenvs/dnn_voice_change-vie6OHFl/lib/python3.7/site-packages/h5py/_hl/dataset.py\", line 134, in make_new_dset\n",
      "    dset_id = h5d.create(parent.id, name, tid, sid, dcpl=dcpl)\n",
      "  File \"h5py/_objects.pyx\", line 54, in h5py._objects.with_phil.wrapper\n",
      "  File \"h5py/_objects.pyx\", line 54, in h5py._objects.with_phil.wrapper\n",
      "  File \"h5py/_objects.pyx\", line 55, in h5py._objects.with_phil.wrapper\n",
      "  File \"h5py/_objects.pyx\", line 55, in h5py._objects.with_phil.wrapper\n",
      "Process Process-18:\n",
      "  File \"h5py/h5d.pyx\", line 87, in h5py.h5d.create\n",
      "  File \"h5py/h5d.pyx\", line 87, in h5py.h5d.create\n"
     ]
    },
    {
     "name": "stderr",
     "output_type": "stream",
     "text": [
      "ValueError: Unable to create dataset (name already exists)\n",
      "ValueError: Unable to create dataset (name already exists)\n",
      "Traceback (most recent call last):\n",
      "  File \"/home/jun/.pyenv/versions/3.7.4/lib/python3.7/multiprocessing/process.py\", line 297, in _bootstrap\n",
      "    self.run()\n",
      "  File \"/home/jun/.pyenv/versions/3.7.4/lib/python3.7/multiprocessing/process.py\", line 99, in run\n",
      "    self._target(*self._args, **self._kwargs)\n",
      "Process Process-20:\n",
      "  File \"/home/jun/.local/share/virtualenvs/dnn_voice_change-vie6OHFl/lib/python3.7/site-packages/sidekit/features_extractor.py\", line 750, in save_list\n",
      "    self.save(show, channel, audio_file, feature_file, noise_file, snr, reverb_file, reverb_level)\n",
      "  File \"/home/jun/.local/share/virtualenvs/dnn_voice_change-vie6OHFl/lib/python3.7/site-packages/sidekit/features_extractor.py\", line 468, in save\n",
      "    reverb_level=reverb_level)\n",
      "  File \"/home/jun/.local/share/virtualenvs/dnn_voice_change-vie6OHFl/lib/python3.7/site-packages/sidekit/features_extractor.py\", line 340, in extract\n",
      "    self.compressed)\n",
      "Traceback (most recent call last):\n",
      "  File \"/home/jun/.local/share/virtualenvs/dnn_voice_change-vie6OHFl/lib/python3.7/site-packages/sidekit/frontend/io.py\", line 1355, in write_hdf5\n",
      "    label)\n",
      "  File \"/home/jun/.pyenv/versions/3.7.4/lib/python3.7/multiprocessing/process.py\", line 297, in _bootstrap\n",
      "    self.run()\n",
      "  File \"/home/jun/.pyenv/versions/3.7.4/lib/python3.7/multiprocessing/process.py\", line 99, in run\n",
      "    self._target(*self._args, **self._kwargs)\n",
      "  File \"/home/jun/.local/share/virtualenvs/dnn_voice_change-vie6OHFl/lib/python3.7/site-packages/sidekit/features_extractor.py\", line 750, in save_list\n",
      "    self.save(show, channel, audio_file, feature_file, noise_file, snr, reverb_file, reverb_level)\n",
      "  File \"/home/jun/.local/share/virtualenvs/dnn_voice_change-vie6OHFl/lib/python3.7/site-packages/sidekit/frontend/io.py\", line 1236, in _write_show_percentile\n",
      "    _add_percentile_dataset(fh, show + '/cep', cep)\n",
      "  File \"/home/jun/.local/share/virtualenvs/dnn_voice_change-vie6OHFl/lib/python3.7/site-packages/sidekit/features_extractor.py\", line 468, in save\n",
      "    reverb_level=reverb_level)\n",
      "  File \"/home/jun/.local/share/virtualenvs/dnn_voice_change-vie6OHFl/lib/python3.7/site-packages/sidekit/frontend/io.py\", line 998, in _add_percentile_dataset\n",
      "    _add_dataset_header(fh, dataset_id, _min_val, _range, _header)\n",
      "  File \"/home/jun/.local/share/virtualenvs/dnn_voice_change-vie6OHFl/lib/python3.7/site-packages/sidekit/features_extractor.py\", line 340, in extract\n",
      "    self.compressed)\n",
      "  File \"/home/jun/.local/share/virtualenvs/dnn_voice_change-vie6OHFl/lib/python3.7/site-packages/sidekit/frontend/io.py\", line 972, in _add_dataset_header\n",
      "    fletcher32=True)\n",
      "  File \"/home/jun/.local/share/virtualenvs/dnn_voice_change-vie6OHFl/lib/python3.7/site-packages/sidekit/frontend/io.py\", line 1355, in write_hdf5\n",
      "    label)\n",
      "  File \"/home/jun/.local/share/virtualenvs/dnn_voice_change-vie6OHFl/lib/python3.7/site-packages/h5py/_hl/group.py\", line 153, in create_dataset\n",
      "    dsid = dataset.make_new_dset(group, shape, dtype, data, name, **kwds)\n",
      "  File \"/home/jun/.local/share/virtualenvs/dnn_voice_change-vie6OHFl/lib/python3.7/site-packages/sidekit/frontend/io.py\", line 1236, in _write_show_percentile\n",
      "    _add_percentile_dataset(fh, show + '/cep', cep)\n",
      "  File \"/home/jun/.local/share/virtualenvs/dnn_voice_change-vie6OHFl/lib/python3.7/site-packages/h5py/_hl/dataset.py\", line 134, in make_new_dset\n",
      "    dset_id = h5d.create(parent.id, name, tid, sid, dcpl=dcpl)\n",
      "  File \"/home/jun/.local/share/virtualenvs/dnn_voice_change-vie6OHFl/lib/python3.7/site-packages/sidekit/frontend/io.py\", line 998, in _add_percentile_dataset\n",
      "    _add_dataset_header(fh, dataset_id, _min_val, _range, _header)\n",
      "  File \"h5py/_objects.pyx\", line 54, in h5py._objects.with_phil.wrapper\n",
      "  File \"/home/jun/.local/share/virtualenvs/dnn_voice_change-vie6OHFl/lib/python3.7/site-packages/sidekit/frontend/io.py\", line 972, in _add_dataset_header\n",
      "    fletcher32=True)\n",
      "  File \"h5py/_objects.pyx\", line 55, in h5py._objects.with_phil.wrapper\n",
      "  File \"/home/jun/.local/share/virtualenvs/dnn_voice_change-vie6OHFl/lib/python3.7/site-packages/h5py/_hl/group.py\", line 153, in create_dataset\n",
      "    dsid = dataset.make_new_dset(group, shape, dtype, data, name, **kwds)\n",
      "  File \"h5py/h5d.pyx\", line 87, in h5py.h5d.create\n",
      "  File \"/home/jun/.local/share/virtualenvs/dnn_voice_change-vie6OHFl/lib/python3.7/site-packages/h5py/_hl/dataset.py\", line 134, in make_new_dset\n",
      "    dset_id = h5d.create(parent.id, name, tid, sid, dcpl=dcpl)\n",
      "ValueError: Unable to create dataset (name already exists)\n",
      "  File \"h5py/_objects.pyx\", line 54, in h5py._objects.with_phil.wrapper\n",
      "  File \"h5py/_objects.pyx\", line 55, in h5py._objects.with_phil.wrapper\n",
      "  File \"h5py/h5d.pyx\", line 87, in h5py.h5d.create\n",
      "ValueError: Unable to create dataset (name already exists)\n",
      "Process Process-19:\n",
      "Traceback (most recent call last):\n",
      "  File \"/home/jun/.pyenv/versions/3.7.4/lib/python3.7/multiprocessing/process.py\", line 297, in _bootstrap\n",
      "    self.run()\n",
      "  File \"/home/jun/.pyenv/versions/3.7.4/lib/python3.7/multiprocessing/process.py\", line 99, in run\n",
      "    self._target(*self._args, **self._kwargs)\n",
      "  File \"/home/jun/.local/share/virtualenvs/dnn_voice_change-vie6OHFl/lib/python3.7/site-packages/sidekit/features_extractor.py\", line 750, in save_list\n",
      "    self.save(show, channel, audio_file, feature_file, noise_file, snr, reverb_file, reverb_level)\n",
      "  File \"/home/jun/.local/share/virtualenvs/dnn_voice_change-vie6OHFl/lib/python3.7/site-packages/sidekit/features_extractor.py\", line 468, in save\n",
      "    reverb_level=reverb_level)\n",
      "  File \"/home/jun/.local/share/virtualenvs/dnn_voice_change-vie6OHFl/lib/python3.7/site-packages/sidekit/features_extractor.py\", line 340, in extract\n",
      "    self.compressed)\n",
      "  File \"/home/jun/.local/share/virtualenvs/dnn_voice_change-vie6OHFl/lib/python3.7/site-packages/sidekit/frontend/io.py\", line 1355, in write_hdf5\n",
      "    label)\n",
      "  File \"/home/jun/.local/share/virtualenvs/dnn_voice_change-vie6OHFl/lib/python3.7/site-packages/sidekit/frontend/io.py\", line 1236, in _write_show_percentile\n",
      "    _add_percentile_dataset(fh, show + '/cep', cep)\n",
      "  File \"/home/jun/.local/share/virtualenvs/dnn_voice_change-vie6OHFl/lib/python3.7/site-packages/sidekit/frontend/io.py\", line 998, in _add_percentile_dataset\n",
      "    _add_dataset_header(fh, dataset_id, _min_val, _range, _header)\n",
      "  File \"/home/jun/.local/share/virtualenvs/dnn_voice_change-vie6OHFl/lib/python3.7/site-packages/sidekit/frontend/io.py\", line 972, in _add_dataset_header\n",
      "    fletcher32=True)\n",
      "  File \"/home/jun/.local/share/virtualenvs/dnn_voice_change-vie6OHFl/lib/python3.7/site-packages/h5py/_hl/group.py\", line 153, in create_dataset\n",
      "    dsid = dataset.make_new_dset(group, shape, dtype, data, name, **kwds)\n",
      "  File \"/home/jun/.local/share/virtualenvs/dnn_voice_change-vie6OHFl/lib/python3.7/site-packages/h5py/_hl/dataset.py\", line 134, in make_new_dset\n",
      "    dset_id = h5d.create(parent.id, name, tid, sid, dcpl=dcpl)\n",
      "  File \"h5py/_objects.pyx\", line 54, in h5py._objects.with_phil.wrapper\n",
      "  File \"h5py/_objects.pyx\", line 55, in h5py._objects.with_phil.wrapper\n",
      "  File \"h5py/h5d.pyx\", line 87, in h5py.h5d.create\n",
      "ValueError: Unable to create dataset (name already exists)\n",
      "Process Process-12:\n",
      "Traceback (most recent call last):\n",
      "  File \"/home/jun/.pyenv/versions/3.7.4/lib/python3.7/multiprocessing/process.py\", line 297, in _bootstrap\n",
      "    self.run()\n",
      "  File \"/home/jun/.pyenv/versions/3.7.4/lib/python3.7/multiprocessing/process.py\", line 99, in run\n",
      "    self._target(*self._args, **self._kwargs)\n",
      "  File \"/home/jun/.local/share/virtualenvs/dnn_voice_change-vie6OHFl/lib/python3.7/site-packages/sidekit/features_extractor.py\", line 750, in save_list\n",
      "    self.save(show, channel, audio_file, feature_file, noise_file, snr, reverb_file, reverb_level)\n",
      "  File \"/home/jun/.local/share/virtualenvs/dnn_voice_change-vie6OHFl/lib/python3.7/site-packages/sidekit/features_extractor.py\", line 468, in save\n",
      "    reverb_level=reverb_level)\n",
      "  File \"/home/jun/.local/share/virtualenvs/dnn_voice_change-vie6OHFl/lib/python3.7/site-packages/sidekit/features_extractor.py\", line 340, in extract\n",
      "    self.compressed)\n",
      "  File \"/home/jun/.local/share/virtualenvs/dnn_voice_change-vie6OHFl/lib/python3.7/site-packages/sidekit/frontend/io.py\", line 1355, in write_hdf5\n",
      "    label)\n"
     ]
    },
    {
     "name": "stderr",
     "output_type": "stream",
     "text": [
      "  File \"/home/jun/.local/share/virtualenvs/dnn_voice_change-vie6OHFl/lib/python3.7/site-packages/sidekit/frontend/io.py\", line 1236, in _write_show_percentile\n",
      "    _add_percentile_dataset(fh, show + '/cep', cep)\n",
      "  File \"/home/jun/.local/share/virtualenvs/dnn_voice_change-vie6OHFl/lib/python3.7/site-packages/sidekit/frontend/io.py\", line 998, in _add_percentile_dataset\n",
      "    _add_dataset_header(fh, dataset_id, _min_val, _range, _header)\n",
      "  File \"/home/jun/.local/share/virtualenvs/dnn_voice_change-vie6OHFl/lib/python3.7/site-packages/sidekit/frontend/io.py\", line 972, in _add_dataset_header\n",
      "    fletcher32=True)\n",
      "  File \"/home/jun/.local/share/virtualenvs/dnn_voice_change-vie6OHFl/lib/python3.7/site-packages/h5py/_hl/group.py\", line 153, in create_dataset\n",
      "    dsid = dataset.make_new_dset(group, shape, dtype, data, name, **kwds)\n",
      "  File \"/home/jun/.local/share/virtualenvs/dnn_voice_change-vie6OHFl/lib/python3.7/site-packages/h5py/_hl/dataset.py\", line 134, in make_new_dset\n",
      "    dset_id = h5d.create(parent.id, name, tid, sid, dcpl=dcpl)\n",
      "  File \"h5py/_objects.pyx\", line 54, in h5py._objects.with_phil.wrapper\n",
      "  File \"h5py/_objects.pyx\", line 55, in h5py._objects.with_phil.wrapper\n",
      "  File \"h5py/h5d.pyx\", line 87, in h5py.h5d.create\n",
      "ValueError: Unable to create dataset (name already exists)\n"
     ]
    }
   ],
   "source": [
    "# Get the complete list of features to extract\n",
    "show_list = np.unique(np.hstack([ubmList]))\n",
    "channel_list = np.zeros_like(show_list, dtype = int)\n",
    "logging.info(\"Extract features and save to disk\")\n",
    "extractor.save_list(show_list=show_list,\n",
    "                    channel_list=channel_list,\n",
    "                    num_thread=nbThread)"
   ]
  },
  {
   "cell_type": "code",
   "execution_count": 6,
   "metadata": {},
   "outputs": [],
   "source": [
    "# Create a FeaturesServer to load features and feed the other methods\n",
    "features_server = sidekit.FeaturesServer(features_extractor=None,\n",
    "                                         feature_filename_structure=\"./features/{}.h5\",\n",
    "                                         sources=None,\n",
    "                                         dataset_list=[\"energy\", \"cep\", \"vad\"],\n",
    "                                         mask=None,\n",
    "                                         feat_norm=\"cmvn\",\n",
    "                                         global_cmvn=None,\n",
    "                                         dct_pca=False,\n",
    "                                         dct_pca_config=None,\n",
    "                                         sdc=False,\n",
    "                                         sdc_config=None,\n",
    "                                         delta=True,\n",
    "                                         double_delta=True,\n",
    "                                         delta_filter=None,\n",
    "                                         context=None,\n",
    "                                         traps_dct_nb=None,\n",
    "                                         rasta=True,\n",
    "                                         keep_all_features=False)"
   ]
  },
  {
   "cell_type": "code",
   "execution_count": 14,
   "metadata": {},
   "outputs": [
    {
     "name": "stdout",
     "output_type": "stream",
     "text": [
      "Train the UBM by EM\n"
     ]
    }
   ],
   "source": [
    "print('Train the UBM by EM')\n",
    "# Extract all features and train a GMM without writing to disk\n",
    "ubm = sidekit.Mixture()\n",
    "llk = ubm.EM_split(features_server, ubmList, distribNb, num_thread=nbThread, save_partial=True)\n",
    "ubm.write('gmm/ubm_jnas.h5')"
   ]
  },
  {
   "cell_type": "code",
   "execution_count": 3,
   "metadata": {},
   "outputs": [],
   "source": [
    "ubm = sidekit.Mixture(\"./gmm/ubm_jnas.h5\")"
   ]
  },
  {
   "cell_type": "code",
   "execution_count": 8,
   "metadata": {},
   "outputs": [
    {
     "name": "stdout",
     "output_type": "stream",
     "text": [
      "Compute the sufficient statistics\n"
     ]
    },
    {
     "name": "stderr",
     "output_type": "stream",
     "text": [
      "Process Process-9:\n",
      "Traceback (most recent call last):\n",
      "  File \"/home/jun/.pyenv/versions/3.7.4/lib/python3.7/multiprocessing/process.py\", line 297, in _bootstrap\n",
      "    self.run()\n",
      "  File \"/home/jun/.pyenv/versions/3.7.4/lib/python3.7/multiprocessing/process.py\", line 99, in run\n",
      "    self._target(*self._args, **self._kwargs)\n",
      "  File \"/home/jun/.local/share/virtualenvs/dnn_voice_change-vie6OHFl/lib/python3.7/site-packages/sidekit/statserver.py\", line 711, in accumulate_stat\n",
      "    cep, vad = feature_server.load(show, channel=channel)\n",
      "  File \"/home/jun/.local/share/virtualenvs/dnn_voice_change-vie6OHFl/lib/python3.7/site-packages/sidekit/features_server.py\", line 437, in load\n",
      "    start=start, stop=stop)\n",
      "  File \"/home/jun/.local/share/virtualenvs/dnn_voice_change-vie6OHFl/lib/python3.7/site-packages/sidekit/features_server.py\", line 471, in get_features\n",
      "    h5f = h5py.File(self.feature_filename_structure.format(show), \"r\")\n",
      "  File \"/home/jun/.local/share/virtualenvs/dnn_voice_change-vie6OHFl/lib/python3.7/site-packages/h5py/_hl/files.py\", line 427, in __init__\n",
      "    swmr=swmr)\n",
      "  File \"/home/jun/.local/share/virtualenvs/dnn_voice_change-vie6OHFl/lib/python3.7/site-packages/h5py/_hl/files.py\", line 190, in make_fid\n",
      "    fid = h5f.open(name, flags, fapl=fapl)\n",
      "  File \"h5py/_objects.pyx\", line 54, in h5py._objects.with_phil.wrapper\n",
      "  File \"h5py/_objects.pyx\", line 55, in h5py._objects.with_phil.wrapper\n",
      "  File \"h5py/h5f.pyx\", line 96, in h5py.h5f.open\n",
      "OSError: Unable to open file (unable to open file: name = './features/74/100.h5', errno = 2, error message = 'No such file or directory', flags = 0, o_flags = 0)\n",
      "Process Process-4:\n",
      "Traceback (most recent call last):\n",
      "  File \"/home/jun/.pyenv/versions/3.7.4/lib/python3.7/multiprocessing/process.py\", line 297, in _bootstrap\n",
      "    self.run()\n",
      "  File \"/home/jun/.pyenv/versions/3.7.4/lib/python3.7/multiprocessing/process.py\", line 99, in run\n",
      "    self._target(*self._args, **self._kwargs)\n",
      "  File \"/home/jun/.local/share/virtualenvs/dnn_voice_change-vie6OHFl/lib/python3.7/site-packages/sidekit/statserver.py\", line 711, in accumulate_stat\n",
      "    cep, vad = feature_server.load(show, channel=channel)\n",
      "  File \"/home/jun/.local/share/virtualenvs/dnn_voice_change-vie6OHFl/lib/python3.7/site-packages/sidekit/features_server.py\", line 437, in load\n",
      "    start=start, stop=stop)\n",
      "  File \"/home/jun/.local/share/virtualenvs/dnn_voice_change-vie6OHFl/lib/python3.7/site-packages/sidekit/features_server.py\", line 471, in get_features\n",
      "    h5f = h5py.File(self.feature_filename_structure.format(show), \"r\")\n",
      "  File \"/home/jun/.local/share/virtualenvs/dnn_voice_change-vie6OHFl/lib/python3.7/site-packages/h5py/_hl/files.py\", line 427, in __init__\n",
      "    swmr=swmr)\n",
      "  File \"/home/jun/.local/share/virtualenvs/dnn_voice_change-vie6OHFl/lib/python3.7/site-packages/h5py/_hl/files.py\", line 190, in make_fid\n",
      "    fid = h5f.open(name, flags, fapl=fapl)\n",
      "  File \"h5py/_objects.pyx\", line 54, in h5py._objects.with_phil.wrapper\n",
      "  File \"h5py/_objects.pyx\", line 55, in h5py._objects.with_phil.wrapper\n",
      "  File \"h5py/h5f.pyx\", line 96, in h5py.h5f.open\n",
      "OSError: Unable to open file (unable to open file: name = './features/30/100.h5', errno = 2, error message = 'No such file or directory', flags = 0, o_flags = 0)\n",
      "Process Process-10:\n",
      "Traceback (most recent call last):\n",
      "  File \"/home/jun/.pyenv/versions/3.7.4/lib/python3.7/multiprocessing/process.py\", line 297, in _bootstrap\n",
      "    self.run()\n",
      "  File \"/home/jun/.pyenv/versions/3.7.4/lib/python3.7/multiprocessing/process.py\", line 99, in run\n",
      "    self._target(*self._args, **self._kwargs)\n",
      "  File \"/home/jun/.local/share/virtualenvs/dnn_voice_change-vie6OHFl/lib/python3.7/site-packages/sidekit/statserver.py\", line 711, in accumulate_stat\n",
      "    cep, vad = feature_server.load(show, channel=channel)\n",
      "  File \"/home/jun/.local/share/virtualenvs/dnn_voice_change-vie6OHFl/lib/python3.7/site-packages/sidekit/features_server.py\", line 437, in load\n",
      "    start=start, stop=stop)\n",
      "  File \"/home/jun/.local/share/virtualenvs/dnn_voice_change-vie6OHFl/lib/python3.7/site-packages/sidekit/features_server.py\", line 471, in get_features\n",
      "    h5f = h5py.File(self.feature_filename_structure.format(show), \"r\")\n",
      "  File \"/home/jun/.local/share/virtualenvs/dnn_voice_change-vie6OHFl/lib/python3.7/site-packages/h5py/_hl/files.py\", line 427, in __init__\n",
      "    swmr=swmr)\n",
      "  File \"/home/jun/.local/share/virtualenvs/dnn_voice_change-vie6OHFl/lib/python3.7/site-packages/h5py/_hl/files.py\", line 190, in make_fid\n",
      "    fid = h5f.open(name, flags, fapl=fapl)\n",
      "  File \"h5py/_objects.pyx\", line 54, in h5py._objects.with_phil.wrapper\n",
      "  File \"h5py/_objects.pyx\", line 55, in h5py._objects.with_phil.wrapper\n",
      "  File \"h5py/h5f.pyx\", line 96, in h5py.h5f.open\n",
      "OSError: Unable to open file (unable to open file: name = './features/89/100.h5', errno = 2, error message = 'No such file or directory', flags = 0, o_flags = 0)\n"
     ]
    }
   ],
   "source": [
    "print('Compute the sufficient statistics')\n",
    "# Create a StatServer for the enrollment data and compute the statistics\n",
    "enroll_stat = sidekit.StatServer(enroll_idmap,\n",
    "                                 distrib_nb=distribNb,\n",
    "                                 feature_size=60)\n",
    "enroll_stat.accumulate_stat(ubm=ubm,\n",
    "                            feature_server=features_server,\n",
    "                            seg_indices=range(enroll_stat.segset.shape[0]),\n",
    "                            num_thread=nbThread)"
   ]
  },
  {
   "cell_type": "code",
   "execution_count": 9,
   "metadata": {},
   "outputs": [
    {
     "name": "stdout",
     "output_type": "stream",
     "text": [
      "MAP adaptation of the speaker models\n"
     ]
    },
    {
     "name": "stderr",
     "output_type": "stream",
     "text": [
      "/home/jun/.local/share/virtualenvs/dnn_voice_change-vie6OHFl/lib/python3.7/site-packages/sidekit/statserver.py:1085: RuntimeWarning: invalid value encountered in true_divide\n",
      "  M = modelStat.stat1 / modelStat.stat0[:, index_map]\n"
     ]
    }
   ],
   "source": [
    "print('MAP adaptation of the speaker models')\n",
    "regulation_factor = 16 # MAP regulation factor\n",
    "enroll_sv = enroll_stat.adapt_mean_map_multisession(ubm, regulation_factor)\n",
    "enroll_sv.write('data/sv_enroll.h5')"
   ]
  },
  {
   "cell_type": "code",
   "execution_count": 4,
   "metadata": {},
   "outputs": [],
   "source": [
    "enroll_sv = sidekit.StatServer('data/sv_enroll.h5')"
   ]
  },
  {
   "cell_type": "code",
   "execution_count": 22,
   "metadata": {},
   "outputs": [
    {
     "name": "stdout",
     "output_type": "stream",
     "text": [
      "Compute trial scores\n"
     ]
    },
    {
     "name": "stderr",
     "output_type": "stream",
     "text": [
      "Process Process-20:\n",
      "Traceback (most recent call last):\n",
      "  File \"/home/jun/.pyenv/versions/3.7.4/lib/python3.7/multiprocessing/process.py\", line 297, in _bootstrap\n",
      "    self.run()\n",
      "  File \"/home/jun/.pyenv/versions/3.7.4/lib/python3.7/multiprocessing/process.py\", line 99, in run\n",
      "    self._target(*self._args, **self._kwargs)\n",
      "  File \"/home/jun/.local/share/virtualenvs/dnn_voice_change-vie6OHFl/lib/python3.7/site-packages/sidekit/gmm_scoring.py\", line 93, in gmm_scoring_singleThread\n",
      "    cep, _ = feature_server.load(ndx.segset[ts])\n",
      "  File \"/home/jun/.local/share/virtualenvs/dnn_voice_change-vie6OHFl/lib/python3.7/site-packages/sidekit/features_server.py\", line 437, in load\n",
      "    start=start, stop=stop)\n",
      "  File \"/home/jun/.local/share/virtualenvs/dnn_voice_change-vie6OHFl/lib/python3.7/site-packages/sidekit/features_server.py\", line 471, in get_features\n",
      "    h5f = h5py.File(self.feature_filename_structure.format(show), \"r\")\n",
      "  File \"/home/jun/.local/share/virtualenvs/dnn_voice_change-vie6OHFl/lib/python3.7/site-packages/h5py/_hl/files.py\", line 427, in __init__\n",
      "    swmr=swmr)\n",
      "  File \"/home/jun/.local/share/virtualenvs/dnn_voice_change-vie6OHFl/lib/python3.7/site-packages/h5py/_hl/files.py\", line 190, in make_fid\n",
      "    fid = h5f.open(name, flags, fapl=fapl)\n",
      "  File \"h5py/_objects.pyx\", line 54, in h5py._objects.with_phil.wrapper\n",
      "  File \"h5py/_objects.pyx\", line 55, in h5py._objects.with_phil.wrapper\n",
      "  File \"h5py/h5f.pyx\", line 96, in h5py.h5f.open\n",
      "OSError: Unable to open file (unable to open file: name = './features/74/100.h5', errno = 2, error message = 'No such file or directory', flags = 0, o_flags = 0)\n",
      "Process Process-15:\n",
      "Traceback (most recent call last):\n",
      "  File \"/home/jun/.pyenv/versions/3.7.4/lib/python3.7/multiprocessing/process.py\", line 297, in _bootstrap\n",
      "    self.run()\n",
      "  File \"/home/jun/.pyenv/versions/3.7.4/lib/python3.7/multiprocessing/process.py\", line 99, in run\n",
      "    self._target(*self._args, **self._kwargs)\n",
      "  File \"/home/jun/.local/share/virtualenvs/dnn_voice_change-vie6OHFl/lib/python3.7/site-packages/sidekit/gmm_scoring.py\", line 93, in gmm_scoring_singleThread\n",
      "    cep, _ = feature_server.load(ndx.segset[ts])\n",
      "  File \"/home/jun/.local/share/virtualenvs/dnn_voice_change-vie6OHFl/lib/python3.7/site-packages/sidekit/features_server.py\", line 437, in load\n",
      "    start=start, stop=stop)\n",
      "  File \"/home/jun/.local/share/virtualenvs/dnn_voice_change-vie6OHFl/lib/python3.7/site-packages/sidekit/features_server.py\", line 471, in get_features\n",
      "    h5f = h5py.File(self.feature_filename_structure.format(show), \"r\")\n",
      "  File \"/home/jun/.local/share/virtualenvs/dnn_voice_change-vie6OHFl/lib/python3.7/site-packages/h5py/_hl/files.py\", line 427, in __init__\n",
      "    swmr=swmr)\n",
      "  File \"/home/jun/.local/share/virtualenvs/dnn_voice_change-vie6OHFl/lib/python3.7/site-packages/h5py/_hl/files.py\", line 190, in make_fid\n",
      "    fid = h5f.open(name, flags, fapl=fapl)\n",
      "  File \"h5py/_objects.pyx\", line 54, in h5py._objects.with_phil.wrapper\n",
      "  File \"h5py/_objects.pyx\", line 55, in h5py._objects.with_phil.wrapper\n",
      "  File \"h5py/h5f.pyx\", line 96, in h5py.h5f.open\n",
      "OSError: Unable to open file (unable to open file: name = './features/30/100.h5', errno = 2, error message = 'No such file or directory', flags = 0, o_flags = 0)\n",
      "Process Process-21:\n",
      "Traceback (most recent call last):\n",
      "  File \"/home/jun/.pyenv/versions/3.7.4/lib/python3.7/multiprocessing/process.py\", line 297, in _bootstrap\n",
      "    self.run()\n",
      "  File \"/home/jun/.pyenv/versions/3.7.4/lib/python3.7/multiprocessing/process.py\", line 99, in run\n",
      "    self._target(*self._args, **self._kwargs)\n",
      "  File \"/home/jun/.local/share/virtualenvs/dnn_voice_change-vie6OHFl/lib/python3.7/site-packages/sidekit/gmm_scoring.py\", line 93, in gmm_scoring_singleThread\n",
      "    cep, _ = feature_server.load(ndx.segset[ts])\n",
      "  File \"/home/jun/.local/share/virtualenvs/dnn_voice_change-vie6OHFl/lib/python3.7/site-packages/sidekit/features_server.py\", line 437, in load\n",
      "    start=start, stop=stop)\n",
      "  File \"/home/jun/.local/share/virtualenvs/dnn_voice_change-vie6OHFl/lib/python3.7/site-packages/sidekit/features_server.py\", line 471, in get_features\n",
      "    h5f = h5py.File(self.feature_filename_structure.format(show), \"r\")\n",
      "  File \"/home/jun/.local/share/virtualenvs/dnn_voice_change-vie6OHFl/lib/python3.7/site-packages/h5py/_hl/files.py\", line 427, in __init__\n",
      "    swmr=swmr)\n",
      "  File \"/home/jun/.local/share/virtualenvs/dnn_voice_change-vie6OHFl/lib/python3.7/site-packages/h5py/_hl/files.py\", line 190, in make_fid\n",
      "    fid = h5f.open(name, flags, fapl=fapl)\n",
      "  File \"h5py/_objects.pyx\", line 54, in h5py._objects.with_phil.wrapper\n",
      "  File \"h5py/_objects.pyx\", line 55, in h5py._objects.with_phil.wrapper\n",
      "  File \"h5py/h5f.pyx\", line 96, in h5py.h5f.open\n",
      "OSError: Unable to open file (unable to open file: name = './features/89/100.h5', errno = 2, error message = 'No such file or directory', flags = 0, o_flags = 0)\n"
     ]
    }
   ],
   "source": [
    "print('Compute trial scores')\n",
    "scores_gmm_ubm = sidekit.gmm_scoring(ubm,\n",
    "                                     enroll_sv,\n",
    "                                     test_ndx,\n",
    "                                     features_server,\n",
    "                                     num_thread=nbThread)\n",
    "scores_gmm_ubm.write('scores/scores_gmm-ubm.h5')\n",
    "scores_gmm_ubm =  sidekit.bosaris.Scores('scores/scores_gmm-ubm.h5')"
   ]
  },
  {
   "cell_type": "code",
   "execution_count": 5,
   "metadata": {},
   "outputs": [
    {
     "data": {
      "text/plain": [
       "(100, 30720)"
      ]
     },
     "execution_count": 5,
     "metadata": {},
     "output_type": "execute_result"
    }
   ],
   "source": [
    "sv = enroll_sv.stat1\n",
    "sv.shape"
   ]
  },
  {
   "cell_type": "code",
   "execution_count": 6,
   "metadata": {},
   "outputs": [
    {
     "data": {
      "text/plain": [
       "(100, 5)"
      ]
     },
     "execution_count": 6,
     "metadata": {},
     "output_type": "execute_result"
    }
   ],
   "source": [
    "from sklearn.decomposition import PCA\n",
    "pca = PCA(n_components=5)\n",
    "pca.fit(sv.T)\n",
    "ev = pca.components_.T #固有声\n",
    "ev.shape"
   ]
  },
  {
   "cell_type": "code",
   "execution_count": 7,
   "metadata": {},
   "outputs": [],
   "source": [
    "import pandas as pd\n",
    "import scipy\n",
    "df = pd.DataFrame(ev)\n",
    "df_zs = df.apply(scipy.stats.zscore, axis=0)\n",
    "#df.to_excel('evc.xlsx')\n",
    "with pd.ExcelWriter('evc_jnas.xlsx') as writer:\n",
    "    df.to_excel(writer, sheet_name='sheet1')\n",
    "    df_zs.to_excel(writer, sheet_name='sheet2')"
   ]
  },
  {
   "cell_type": "code",
   "execution_count": 8,
   "metadata": {},
   "outputs": [
    {
     "data": {
      "text/plain": [
       "array([0.90390365, 0.01637042, 0.00930426, 0.00431846, 0.00409099])"
      ]
     },
     "execution_count": 8,
     "metadata": {},
     "output_type": "execute_result"
    }
   ],
   "source": [
    "pca.explained_variance_ratio_"
   ]
  },
  {
   "cell_type": "code",
   "execution_count": 9,
   "metadata": {},
   "outputs": [],
   "source": [
    "ev_zs = scipy.stats.zscore(ev)"
   ]
  },
  {
   "cell_type": "code",
   "execution_count": 14,
   "metadata": {},
   "outputs": [
    {
     "name": "stdout",
     "output_type": "stream",
     "text": [
      "[40, 3]\n",
      "[45, 3]\n",
      "[57, 3]\n",
      "[3, 4]\n",
      "[5, 4]\n",
      "[16, 4]\n",
      "[17, 4]\n",
      "[22, 4]\n",
      "[42, 4]\n",
      "[46, 4]\n",
      "[51, 4]\n",
      "[87, 4]\n",
      "[89, 4]\n",
      "[98, 4]\n",
      "[100, 4]\n",
      "[4, 5]\n",
      "[49, 5]\n",
      "[73, 5]\n",
      "[14, 6]\n",
      "[15, 6]\n",
      "[38, 6]\n",
      "[43, 6]\n",
      "[47, 6]\n",
      "[69, 6]\n",
      "[70, 6]\n",
      "[72, 6]\n",
      "[90, 6]\n",
      "[1, 7]\n",
      "[6, 7]\n",
      "[24, 7]\n",
      "[41, 7]\n",
      "[44, 7]\n",
      "[66, 7]\n",
      "[86, 7]\n",
      "[88, 7]\n",
      "[99, 7]\n",
      "[35, 10]\n",
      "[94, 10]\n",
      "[96, 10]\n",
      "[2, 11]\n",
      "[7, 11]\n",
      "[10, 11]\n",
      "[11, 11]\n",
      "[52, 11]\n",
      "[9, 12]\n",
      "[21, 12]\n",
      "[37, 12]\n",
      "[39, 12]\n",
      "[59, 12]\n",
      "[79, 12]\n",
      "[83, 12]\n",
      "[12, 13]\n",
      "[13, 13]\n",
      "[18, 13]\n",
      "[19, 13]\n",
      "[34, 13]\n",
      "[53, 13]\n",
      "[54, 13]\n",
      "[56, 13]\n",
      "[97, 13]\n",
      "[25, 14]\n",
      "[60, 14]\n",
      "[61, 14]\n",
      "[62, 14]\n",
      "[63, 14]\n",
      "[84, 14]\n",
      "[33, 15]\n",
      "[58, 15]\n",
      "[64, 15]\n",
      "[65, 15]\n",
      "[68, 15]\n",
      "[71, 15]\n",
      "[93, 15]\n",
      "[26, 16]\n",
      "[27, 16]\n",
      "[28, 16]\n",
      "[29, 16]\n",
      "[30, 16]\n",
      "[31, 16]\n",
      "[74, 16]\n",
      "[75, 16]\n",
      "[76, 16]\n",
      "[77, 16]\n",
      "[78, 16]\n",
      "[80, 16]\n",
      "[81, 16]\n",
      "[91, 16]\n",
      "[32, 23]\n",
      "[92, 25]\n",
      "[8, 26]\n",
      "[82, 26]\n",
      "[85, 26]\n",
      "[95, 26]\n",
      "[55, 27]\n",
      "[23, 28]\n",
      "[36, 28]\n",
      "[50, 29]\n",
      "[67, 29]\n",
      "[20, 30]\n",
      "[48, 31]\n"
     ]
    }
   ],
   "source": [
    "data = []\n",
    "for x,j in enumerate(ev_zs):\n",
    "    c = 0\n",
    "    for i in range(5):\n",
    "        if j[i] > 0:\n",
    "            c += 2**(4-i)\n",
    "    data.append([x+1,c])\n",
    "list = sorted(data, key=lambda x: x[1])\n",
    "for i in list:\n",
    "    print(i)"
   ]
  },
  {
   "cell_type": "code",
   "execution_count": 18,
   "metadata": {},
   "outputs": [
    {
     "name": "stdout",
     "output_type": "stream",
     "text": [
      "51\n"
     ]
    }
   ],
   "source": [
    "female = [2,4,7,8,10,14,15,16,17,18,19,24,25,26,27,29,30,35,36,38,39,40,43,51,53,55,56,57,58,59,60,61,62,63,64,65,66,67,69,72,82,83,84,85,90,91,92,93,94,95,96]\n",
    "print(len(female))"
   ]
  },
  {
   "cell_type": "code",
   "execution_count": 19,
   "metadata": {},
   "outputs": [],
   "source": [
    "import shutil\n",
    "\n",
    "for i in range(32):\n",
    "    if not os.path.exists(\"./result/a/{}\".format(i)):\n",
    "        os.mkdir(\"./result/a/{}\".format(i))\n",
    "for i in list:\n",
    "    if i[0] in female:\n",
    "        x = \"./data/{}/1.wav\".format(i[0])\n",
    "        y = \"./result/a/{}/{}.wav\".format(i[1],i[0])\n",
    "        shutil.copyfile(x,y)"
   ]
  },
  {
   "cell_type": "code",
   "execution_count": 25,
   "metadata": {},
   "outputs": [
    {
     "name": "stdout",
     "output_type": "stream",
     "text": [
      "UBM-GMM , minDCF = 0.31749524857457234, eer = 0.1455786830998027\n"
     ]
    }
   ],
   "source": [
    "prior = sidekit.logit_effective_prior(0.01, 1, 1)\n",
    "dp = sidekit.DetPlot(window_style='sre10',\n",
    "                    plot_title=\"GMM-UBM\")\n",
    "dp.set_system_from_scores(scores_gmm_ubm,\n",
    "                         key, sys_name=\"GMM-UBM\")\n",
    "minDCF, Pmiss, Pfa, prebep, EER = sidekit.bosaris.detplot.fast_minDCF(\n",
    "dp.__tar__[0], dp.__non__[0], prior, normalize=True)\n",
    "print(\"UBM-GMM , minDCF = {}, eer = {}\".format(minDCF,EER))"
   ]
  }
 ],
 "metadata": {
  "kernelspec": {
   "display_name": "Python 3",
   "language": "python",
   "name": "python3"
  },
  "language_info": {
   "codemirror_mode": {
    "name": "ipython",
    "version": 3
   },
   "file_extension": ".py",
   "mimetype": "text/x-python",
   "name": "python",
   "nbconvert_exporter": "python",
   "pygments_lexer": "ipython3",
   "version": "3.7.4"
  }
 },
 "nbformat": 4,
 "nbformat_minor": 4
}
